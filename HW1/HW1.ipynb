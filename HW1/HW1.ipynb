{
 "cells": [
  {
   "cell_type": "code",
   "execution_count": 1,
   "metadata": {},
   "outputs": [],
   "source": [
    "from scipy.io import arff\n",
    "import pandas as pd"
   ]
  },
  {
   "cell_type": "code",
   "execution_count": 2,
   "metadata": {},
   "outputs": [],
   "source": [
    "data = arff.loadarff('4year.arff')\n",
    "df = pd.DataFrame(data[0])\n",
    "df['bankruptcy'] = (df['class']==b'1')"
   ]
  },
  {
   "cell_type": "code",
   "execution_count": 5,
   "metadata": {},
   "outputs": [],
   "source": [
    "df1 = df[['Attr1','Attr2','Attr7', 'Attr10', 'bankruptcy']]\n",
    "df1.rename(columns = {'Attr1':'X1', 'Attr2':'X2','Attr7':'X7','Attr10':'X10'}, inplace = True)"
   ]
  },
  {
   "cell_type": "code",
   "execution_count": 6,
   "metadata": {},
   "outputs": [],
   "source": [
    "df1.fillna(df1.mean(), inplace = True)"
   ]
  },
  {
   "cell_type": "code",
   "execution_count": 7,
   "metadata": {},
   "outputs": [
    {
     "data": {
      "text/html": [
       "<div>\n",
       "<style scoped>\n",
       "    .dataframe tbody tr th:only-of-type {\n",
       "        vertical-align: middle;\n",
       "    }\n",
       "\n",
       "    .dataframe tbody tr th {\n",
       "        vertical-align: top;\n",
       "    }\n",
       "\n",
       "    .dataframe thead th {\n",
       "        text-align: right;\n",
       "    }\n",
       "</style>\n",
       "<table border=\"1\" class=\"dataframe\">\n",
       "  <thead>\n",
       "    <tr style=\"text-align: right;\">\n",
       "      <th></th>\n",
       "      <th>X1</th>\n",
       "      <th>X2</th>\n",
       "      <th>X7</th>\n",
       "      <th>X10</th>\n",
       "    </tr>\n",
       "  </thead>\n",
       "  <tbody>\n",
       "    <tr>\n",
       "      <th>count</th>\n",
       "      <td>9792.000000</td>\n",
       "      <td>9792.000000</td>\n",
       "      <td>9792.000000</td>\n",
       "      <td>9792.000000</td>\n",
       "    </tr>\n",
       "    <tr>\n",
       "      <th>mean</th>\n",
       "      <td>0.043019</td>\n",
       "      <td>0.596404</td>\n",
       "      <td>0.059446</td>\n",
       "      <td>0.389040</td>\n",
       "    </tr>\n",
       "    <tr>\n",
       "      <th>std</th>\n",
       "      <td>0.359303</td>\n",
       "      <td>4.586887</td>\n",
       "      <td>0.533317</td>\n",
       "      <td>4.590064</td>\n",
       "    </tr>\n",
       "    <tr>\n",
       "      <th>min</th>\n",
       "      <td>-12.458000</td>\n",
       "      <td>0.000000</td>\n",
       "      <td>-12.458000</td>\n",
       "      <td>-445.910000</td>\n",
       "    </tr>\n",
       "    <tr>\n",
       "      <th>25%</th>\n",
       "      <td>0.001322</td>\n",
       "      <td>0.263163</td>\n",
       "      <td>0.003005</td>\n",
       "      <td>0.294510</td>\n",
       "    </tr>\n",
       "    <tr>\n",
       "      <th>50%</th>\n",
       "      <td>0.041374</td>\n",
       "      <td>0.467770</td>\n",
       "      <td>0.048840</td>\n",
       "      <td>0.510435</td>\n",
       "    </tr>\n",
       "    <tr>\n",
       "      <th>75%</th>\n",
       "      <td>0.111125</td>\n",
       "      <td>0.689183</td>\n",
       "      <td>0.126930</td>\n",
       "      <td>0.714285</td>\n",
       "    </tr>\n",
       "    <tr>\n",
       "      <th>max</th>\n",
       "      <td>20.482000</td>\n",
       "      <td>446.910000</td>\n",
       "      <td>38.618000</td>\n",
       "      <td>12.602000</td>\n",
       "    </tr>\n",
       "  </tbody>\n",
       "</table>\n",
       "</div>"
      ],
      "text/plain": [
       "                X1           X2           X7          X10\n",
       "count  9792.000000  9792.000000  9792.000000  9792.000000\n",
       "mean      0.043019     0.596404     0.059446     0.389040\n",
       "std       0.359303     4.586887     0.533317     4.590064\n",
       "min     -12.458000     0.000000   -12.458000  -445.910000\n",
       "25%       0.001322     0.263163     0.003005     0.294510\n",
       "50%       0.041374     0.467770     0.048840     0.510435\n",
       "75%       0.111125     0.689183     0.126930     0.714285\n",
       "max      20.482000   446.910000    38.618000    12.602000"
      ]
     },
     "execution_count": 7,
     "metadata": {},
     "output_type": "execute_result"
    }
   ],
   "source": [
    "df1_std = df.groupby('bankruptcy').std()\n",
    "df1_mean = df.groupby('bankruptcy').mean()\n",
    "df1.describe()"
   ]
  },
  {
   "cell_type": "code",
   "execution_count": 8,
   "metadata": {},
   "outputs": [
    {
     "name": "stdout",
     "output_type": "stream",
     "text": [
      "0.2\n"
     ]
    }
   ],
   "source": [
    "temp1 = df1['X1'].mean()- df1['X1'].std()\n",
    "temp2 = df1['X10'].mean()- df1['X10'].std()\n",
    "num_total = len(df_1.loc[(df_1['X1'] < temp1) & (df_1['X10'] < temp2)])\n",
    "num_bankrupt = len(df_1.loc[(df_1['X1'] < temp1) & (df_1['X10'] < temp2) & (df_1['bankruptcy'] == True)])\n",
    "ratio = num_bankrupt/num_total\n",
    "print(ratio)"
   ]
  },
  {
   "cell_type": "code",
   "execution_count": null,
   "metadata": {},
   "outputs": [],
   "source": []
  }
 ],
 "metadata": {
  "kernelspec": {
   "display_name": "Python 3",
   "language": "python",
   "name": "python3"
  },
  "language_info": {
   "codemirror_mode": {
    "name": "ipython",
    "version": 3
   },
   "file_extension": ".py",
   "mimetype": "text/x-python",
   "name": "python",
   "nbconvert_exporter": "python",
   "pygments_lexer": "ipython3",
   "version": "3.8.5"
  }
 },
 "nbformat": 4,
 "nbformat_minor": 4
}
