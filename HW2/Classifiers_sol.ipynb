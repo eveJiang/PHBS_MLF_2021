{
 "cells": [
  {
   "cell_type": "markdown",
   "metadata": {},
   "source": [
    "# Homework #2: classification\n",
    "Data source: http://archive.ics.uci.edu/ml/datasets/Polish+companies+bankruptcy+data"
   ]
  },
  {
   "cell_type": "code",
   "execution_count": 1,
   "metadata": {},
   "outputs": [],
   "source": [
    "from scipy.io import arff\n",
    "import pandas as pd\n",
    "import numpy as np\n",
    "from sklearn.model_selection import train_test_split"
   ]
  },
  {
   "cell_type": "code",
   "execution_count": 2,
   "metadata": {},
   "outputs": [],
   "source": [
    "data = arff.loadarff('4year.arff')\n",
    "df = pd.DataFrame(data[0])"
   ]
  },
  {
   "cell_type": "code",
   "execution_count": 3,
   "metadata": {},
   "outputs": [],
   "source": [
    "df['bankruptcy'] = (df['class']==b'1')\n",
    "df.drop(columns=['class'], inplace=True)\n",
    "df.columns = ['X{0:02d}'.format(k) for k in range(1,65)] + ['bankruptcy']"
   ]
  },
  {
   "cell_type": "code",
   "execution_count": 4,
   "metadata": {
    "scrolled": true
   },
   "outputs": [
    {
     "data": {
      "text/html": [
       "<div>\n",
       "<style scoped>\n",
       "    .dataframe tbody tr th:only-of-type {\n",
       "        vertical-align: middle;\n",
       "    }\n",
       "\n",
       "    .dataframe tbody tr th {\n",
       "        vertical-align: top;\n",
       "    }\n",
       "\n",
       "    .dataframe thead th {\n",
       "        text-align: right;\n",
       "    }\n",
       "</style>\n",
       "<table border=\"1\" class=\"dataframe\">\n",
       "  <thead>\n",
       "    <tr style=\"text-align: right;\">\n",
       "      <th></th>\n",
       "      <th>X01</th>\n",
       "      <th>X02</th>\n",
       "      <th>X03</th>\n",
       "      <th>X04</th>\n",
       "      <th>X05</th>\n",
       "      <th>X06</th>\n",
       "      <th>X07</th>\n",
       "      <th>X08</th>\n",
       "      <th>X09</th>\n",
       "      <th>X10</th>\n",
       "      <th>...</th>\n",
       "      <th>X55</th>\n",
       "      <th>X56</th>\n",
       "      <th>X57</th>\n",
       "      <th>X58</th>\n",
       "      <th>X59</th>\n",
       "      <th>X60</th>\n",
       "      <th>X61</th>\n",
       "      <th>X62</th>\n",
       "      <th>X63</th>\n",
       "      <th>X64</th>\n",
       "    </tr>\n",
       "  </thead>\n",
       "  <tbody>\n",
       "    <tr>\n",
       "      <th>count</th>\n",
       "      <td>9791.000000</td>\n",
       "      <td>9791.000000</td>\n",
       "      <td>9791.000000</td>\n",
       "      <td>9749.000000</td>\n",
       "      <td>9.771000e+03</td>\n",
       "      <td>9791.000000</td>\n",
       "      <td>9791.000000</td>\n",
       "      <td>9773.000000</td>\n",
       "      <td>9792.000000</td>\n",
       "      <td>9791.000000</td>\n",
       "      <td>...</td>\n",
       "      <td>9.792000e+03</td>\n",
       "      <td>9771.000000</td>\n",
       "      <td>9791.000000</td>\n",
       "      <td>9776.000000</td>\n",
       "      <td>9791.000000</td>\n",
       "      <td>9178.000000</td>\n",
       "      <td>9760.000000</td>\n",
       "      <td>9.771000e+03</td>\n",
       "      <td>9749.000000</td>\n",
       "      <td>9561.000000</td>\n",
       "    </tr>\n",
       "    <tr>\n",
       "      <th>mean</th>\n",
       "      <td>0.043019</td>\n",
       "      <td>0.596404</td>\n",
       "      <td>0.130959</td>\n",
       "      <td>8.136600</td>\n",
       "      <td>6.465164e+01</td>\n",
       "      <td>-0.059273</td>\n",
       "      <td>0.059446</td>\n",
       "      <td>19.884016</td>\n",
       "      <td>1.882296</td>\n",
       "      <td>0.389040</td>\n",
       "      <td>...</td>\n",
       "      <td>7.686330e+03</td>\n",
       "      <td>-0.992263</td>\n",
       "      <td>0.035022</td>\n",
       "      <td>1.133287</td>\n",
       "      <td>0.856053</td>\n",
       "      <td>118.156064</td>\n",
       "      <td>25.194430</td>\n",
       "      <td>2.015157e+03</td>\n",
       "      <td>8.660813</td>\n",
       "      <td>35.949619</td>\n",
       "    </tr>\n",
       "    <tr>\n",
       "      <th>std</th>\n",
       "      <td>0.359321</td>\n",
       "      <td>4.587122</td>\n",
       "      <td>4.559074</td>\n",
       "      <td>290.647281</td>\n",
       "      <td>1.475939e+04</td>\n",
       "      <td>6.812754</td>\n",
       "      <td>0.533344</td>\n",
       "      <td>698.697015</td>\n",
       "      <td>17.674650</td>\n",
       "      <td>4.590299</td>\n",
       "      <td>...</td>\n",
       "      <td>7.605261e+04</td>\n",
       "      <td>77.007971</td>\n",
       "      <td>8.945365</td>\n",
       "      <td>8.038201</td>\n",
       "      <td>26.393305</td>\n",
       "      <td>3230.316692</td>\n",
       "      <td>1099.260821</td>\n",
       "      <td>1.171461e+05</td>\n",
       "      <td>60.838202</td>\n",
       "      <td>483.318623</td>\n",
       "    </tr>\n",
       "    <tr>\n",
       "      <th>min</th>\n",
       "      <td>-12.458000</td>\n",
       "      <td>0.000000</td>\n",
       "      <td>-445.910000</td>\n",
       "      <td>-0.045319</td>\n",
       "      <td>-3.794600e+05</td>\n",
       "      <td>-486.820000</td>\n",
       "      <td>-12.458000</td>\n",
       "      <td>-1.848200</td>\n",
       "      <td>-0.032371</td>\n",
       "      <td>-445.910000</td>\n",
       "      <td>...</td>\n",
       "      <td>-7.132200e+05</td>\n",
       "      <td>-7522.100000</td>\n",
       "      <td>-597.420000</td>\n",
       "      <td>-30.892000</td>\n",
       "      <td>-284.380000</td>\n",
       "      <td>0.000000</td>\n",
       "      <td>-12.656000</td>\n",
       "      <td>-1.496500e+04</td>\n",
       "      <td>-0.024390</td>\n",
       "      <td>-0.000015</td>\n",
       "    </tr>\n",
       "    <tr>\n",
       "      <th>25%</th>\n",
       "      <td>0.001321</td>\n",
       "      <td>0.263145</td>\n",
       "      <td>0.020377</td>\n",
       "      <td>1.047000</td>\n",
       "      <td>-5.121700e+01</td>\n",
       "      <td>-0.000578</td>\n",
       "      <td>0.003004</td>\n",
       "      <td>0.428300</td>\n",
       "      <td>1.006675</td>\n",
       "      <td>0.294440</td>\n",
       "      <td>...</td>\n",
       "      <td>2.184000e+01</td>\n",
       "      <td>0.003121</td>\n",
       "      <td>0.008768</td>\n",
       "      <td>0.885722</td>\n",
       "      <td>0.000000</td>\n",
       "      <td>5.356325</td>\n",
       "      <td>4.267700</td>\n",
       "      <td>4.323400e+01</td>\n",
       "      <td>2.938800</td>\n",
       "      <td>2.012900</td>\n",
       "    </tr>\n",
       "    <tr>\n",
       "      <th>50%</th>\n",
       "      <td>0.041364</td>\n",
       "      <td>0.467740</td>\n",
       "      <td>0.199290</td>\n",
       "      <td>1.591800</td>\n",
       "      <td>-5.557600e-02</td>\n",
       "      <td>0.000000</td>\n",
       "      <td>0.048820</td>\n",
       "      <td>1.088700</td>\n",
       "      <td>1.161300</td>\n",
       "      <td>0.510450</td>\n",
       "      <td>...</td>\n",
       "      <td>9.503300e+02</td>\n",
       "      <td>0.043679</td>\n",
       "      <td>0.098026</td>\n",
       "      <td>0.958305</td>\n",
       "      <td>0.002129</td>\n",
       "      <td>9.482000</td>\n",
       "      <td>6.283550</td>\n",
       "      <td>7.472900e+01</td>\n",
       "      <td>4.848900</td>\n",
       "      <td>4.041600</td>\n",
       "    </tr>\n",
       "    <tr>\n",
       "      <th>75%</th>\n",
       "      <td>0.111130</td>\n",
       "      <td>0.689255</td>\n",
       "      <td>0.410670</td>\n",
       "      <td>2.880400</td>\n",
       "      <td>5.573200e+01</td>\n",
       "      <td>0.065322</td>\n",
       "      <td>0.126940</td>\n",
       "      <td>2.691000</td>\n",
       "      <td>1.970225</td>\n",
       "      <td>0.714290</td>\n",
       "      <td>...</td>\n",
       "      <td>4.694550e+03</td>\n",
       "      <td>0.117170</td>\n",
       "      <td>0.242680</td>\n",
       "      <td>0.996163</td>\n",
       "      <td>0.211790</td>\n",
       "      <td>19.506000</td>\n",
       "      <td>9.938200</td>\n",
       "      <td>1.233450e+02</td>\n",
       "      <td>8.363800</td>\n",
       "      <td>9.413500</td>\n",
       "    </tr>\n",
       "    <tr>\n",
       "      <th>max</th>\n",
       "      <td>20.482000</td>\n",
       "      <td>446.910000</td>\n",
       "      <td>22.769000</td>\n",
       "      <td>27146.000000</td>\n",
       "      <td>1.034100e+06</td>\n",
       "      <td>322.200000</td>\n",
       "      <td>38.618000</td>\n",
       "      <td>53209.000000</td>\n",
       "      <td>1704.800000</td>\n",
       "      <td>12.602000</td>\n",
       "      <td>...</td>\n",
       "      <td>6.123700e+06</td>\n",
       "      <td>112.020000</td>\n",
       "      <td>226.760000</td>\n",
       "      <td>668.750000</td>\n",
       "      <td>1661.000000</td>\n",
       "      <td>251570.000000</td>\n",
       "      <td>108000.000000</td>\n",
       "      <td>1.077900e+07</td>\n",
       "      <td>5662.400000</td>\n",
       "      <td>21153.000000</td>\n",
       "    </tr>\n",
       "  </tbody>\n",
       "</table>\n",
       "<p>8 rows × 64 columns</p>\n",
       "</div>"
      ],
      "text/plain": [
       "               X01          X02          X03           X04           X05  \\\n",
       "count  9791.000000  9791.000000  9791.000000   9749.000000  9.771000e+03   \n",
       "mean      0.043019     0.596404     0.130959      8.136600  6.465164e+01   \n",
       "std       0.359321     4.587122     4.559074    290.647281  1.475939e+04   \n",
       "min     -12.458000     0.000000  -445.910000     -0.045319 -3.794600e+05   \n",
       "25%       0.001321     0.263145     0.020377      1.047000 -5.121700e+01   \n",
       "50%       0.041364     0.467740     0.199290      1.591800 -5.557600e-02   \n",
       "75%       0.111130     0.689255     0.410670      2.880400  5.573200e+01   \n",
       "max      20.482000   446.910000    22.769000  27146.000000  1.034100e+06   \n",
       "\n",
       "               X06          X07           X08          X09          X10  ...  \\\n",
       "count  9791.000000  9791.000000   9773.000000  9792.000000  9791.000000  ...   \n",
       "mean     -0.059273     0.059446     19.884016     1.882296     0.389040  ...   \n",
       "std       6.812754     0.533344    698.697015    17.674650     4.590299  ...   \n",
       "min    -486.820000   -12.458000     -1.848200    -0.032371  -445.910000  ...   \n",
       "25%      -0.000578     0.003004      0.428300     1.006675     0.294440  ...   \n",
       "50%       0.000000     0.048820      1.088700     1.161300     0.510450  ...   \n",
       "75%       0.065322     0.126940      2.691000     1.970225     0.714290  ...   \n",
       "max     322.200000    38.618000  53209.000000  1704.800000    12.602000  ...   \n",
       "\n",
       "                X55          X56          X57          X58          X59  \\\n",
       "count  9.792000e+03  9771.000000  9791.000000  9776.000000  9791.000000   \n",
       "mean   7.686330e+03    -0.992263     0.035022     1.133287     0.856053   \n",
       "std    7.605261e+04    77.007971     8.945365     8.038201    26.393305   \n",
       "min   -7.132200e+05 -7522.100000  -597.420000   -30.892000  -284.380000   \n",
       "25%    2.184000e+01     0.003121     0.008768     0.885722     0.000000   \n",
       "50%    9.503300e+02     0.043679     0.098026     0.958305     0.002129   \n",
       "75%    4.694550e+03     0.117170     0.242680     0.996163     0.211790   \n",
       "max    6.123700e+06   112.020000   226.760000   668.750000  1661.000000   \n",
       "\n",
       "                 X60            X61           X62          X63           X64  \n",
       "count    9178.000000    9760.000000  9.771000e+03  9749.000000   9561.000000  \n",
       "mean      118.156064      25.194430  2.015157e+03     8.660813     35.949619  \n",
       "std      3230.316692    1099.260821  1.171461e+05    60.838202    483.318623  \n",
       "min         0.000000     -12.656000 -1.496500e+04    -0.024390     -0.000015  \n",
       "25%         5.356325       4.267700  4.323400e+01     2.938800      2.012900  \n",
       "50%         9.482000       6.283550  7.472900e+01     4.848900      4.041600  \n",
       "75%        19.506000       9.938200  1.233450e+02     8.363800      9.413500  \n",
       "max    251570.000000  108000.000000  1.077900e+07  5662.400000  21153.000000  \n",
       "\n",
       "[8 rows x 64 columns]"
      ]
     },
     "execution_count": 4,
     "metadata": {},
     "output_type": "execute_result"
    }
   ],
   "source": [
    "df.describe()"
   ]
  },
  {
   "cell_type": "code",
   "execution_count": 5,
   "metadata": {},
   "outputs": [
    {
     "data": {
      "text/plain": [
       "515"
      ]
     },
     "execution_count": 5,
     "metadata": {},
     "output_type": "execute_result"
    }
   ],
   "source": [
    "sum(df.bankruptcy == True)"
   ]
  },
  {
   "cell_type": "code",
   "execution_count": 6,
   "metadata": {},
   "outputs": [
    {
     "data": {
      "text/plain": [
       "0"
      ]
     },
     "execution_count": 6,
     "metadata": {},
     "output_type": "execute_result"
    }
   ],
   "source": [
    "df.fillna(df.mean(), inplace=True)\n",
    "df.isna().sum().sum()"
   ]
  },
  {
   "cell_type": "code",
   "execution_count": 8,
   "metadata": {},
   "outputs": [
    {
     "name": "stdout",
     "output_type": "stream",
     "text": [
      "(6854, 64)\n",
      "(2938, 64)\n"
     ]
    }
   ],
   "source": [
    "X_imp = df.values\n",
    "X, y = X_imp[:, :-1], X_imp[:, -1]\n",
    "y = y.astype(bool)\n",
    "X_train, X_test, y_train, y_test =\\\n",
    "    train_test_split(X, y, test_size=0.3, random_state=0, stratify=y)\n",
    "print(X_train.shape)\n",
    "print(X_test.shape)"
   ]
  },
  {
   "cell_type": "markdown",
   "metadata": {},
   "source": [
    "### Unbalanced dataset\n",
    "The dataset is unbalanced, and need over-sampling or under-sampling"
   ]
  },
  {
   "cell_type": "code",
   "execution_count": 8,
   "metadata": {},
   "outputs": [
    {
     "name": "stdout",
     "output_type": "stream",
     "text": [
      "number of samples:9792,\n",
      "% bankruptcy: 5.26%\n"
     ]
    }
   ],
   "source": [
    "print(\"number of samples:{},\\n% bankruptcy: {:.2%}\".format(df.shape[0], sum(df.bankruptcy == True) / df.shape[0]))"
   ]
  },
  {
   "cell_type": "code",
   "execution_count": 9,
   "metadata": {},
   "outputs": [
    {
     "name": "stdout",
     "output_type": "stream",
     "text": [
      "(6854, 64)\n",
      "(2938, 64)\n"
     ]
    }
   ],
   "source": [
    "import sklearn.preprocessing as skpre\n",
    "\n",
    "stdsc = skpre.StandardScaler()\n",
    "X_train_std = stdsc.fit_transform(X_train)\n",
    "print(X_train_std.shape)\n",
    "X_test_std = stdsc.transform(X_test)\n",
    "print(X_test_std.shape)"
   ]
  },
  {
   "cell_type": "markdown",
   "metadata": {},
   "source": [
    "## Find the 2 most important features\n",
    "using Logistic Regression with L1 penalty"
   ]
  },
  {
   "cell_type": "code",
   "execution_count": 10,
   "metadata": {},
   "outputs": [],
   "source": [
    "from sklearn.linear_model import LogisticRegression\n",
    "from sklearn.svm import SVC\n",
    "from sklearn.tree import DecisionTreeClassifier\n",
    "from sklearn.svm import l1_min_c\n",
    "from tqdm import tqdm\n",
    "import time\n",
    "# and put more..."
   ]
  },
  {
   "cell_type": "markdown",
   "metadata": {},
   "source": [
    "### (1) Variable selection using L1 penalty\n",
    "Select the 2 most important features using LogisticRegression with L1 penalty. (Adjust C until you see 2 features)"
   ]
  },
  {
   "cell_type": "code",
   "execution_count": 11,
   "metadata": {},
   "outputs": [
    {
     "data": {
      "text/plain": [
       "array([3.26051516e-04, 6.02494228e-04, 1.11331884e-03, 2.05724599e-03,\n",
       "       3.80148158e-03, 7.02456697e-03, 1.29803447e-02, 2.39857272e-02,\n",
       "       4.43220212e-02, 8.19004379e-02, 1.51339708e-01, 2.79653048e-01,\n",
       "       5.16756828e-01, 9.54889001e-01, 1.76449145e+00, 3.26051516e+00])"
      ]
     },
     "execution_count": 11,
     "metadata": {},
     "output_type": "execute_result"
    }
   ],
   "source": [
    "lr = LogisticRegression(\n",
    "    penalty='l1',\n",
    "    solver='liblinear',\n",
    "    multi_class=\"ovr\",\n",
    "    tol=1e-4, \n",
    "    max_iter=int(1e2)\n",
    ") # complete\n",
    "\n",
    "C_span = l1_min_c(X_train_std, y_train, loss='log') * np.logspace(0, 4, 16)\n",
    "C_span"
   ]
  },
  {
   "cell_type": "code",
   "execution_count": 12,
   "metadata": {},
   "outputs": [
    {
     "name": "stderr",
     "output_type": "stream",
     "text": [
      "C: 0.00032605151613955004:   0%|          | 0/16 [00:00<?, ?it/s]"
     ]
    },
    {
     "name": "stdout",
     "output_type": "stream",
     "text": [
      "Computing regularization path ...\n"
     ]
    },
    {
     "name": "stderr",
     "output_type": "stream",
     "text": [
      "/usr/local/lib/python3.8/site-packages/sklearn/svm/_base.py:1199: ConvergenceWarning: Liblinear failed to converge, increase the number of iterations.\n",
      "  warnings.warn(\n",
      "C: 0.012980344654499425:  38%|███▊      | 6/16 [00:00<00:01,  6.36it/s]  \n"
     ]
    }
   ],
   "source": [
    "print(\"Computing regularization path ...\")\n",
    "coefs_ = []\n",
    "C_span_t = tqdm(C_span)\n",
    "tol_C = 1e-4\n",
    "count_variables = 2\n",
    "for c in C_span_t:\n",
    "    C_span_t.set_description(\"C: {}\".format(c))\n",
    "    lr.set_params(C=c)\n",
    "    lr.fit(X_train_std, y_train)\n",
    "    coefs_.append(lr.coef_.copy())\n",
    "    if (lr.coef_ != 0).sum() >= count_variables:\n",
    "        break\n",
    "\n",
    "C_left = C_span[len(coefs_) - 2]\n",
    "C_right = C_span[len(coefs_) - 1]\n",
    "coef_left = coefs_[-2]\n",
    "coef_right = coefs_[-1]\n",
    "\n",
    "while (coef_right != 0).sum() != count_variables or C_right - C_left > tol_C:\n",
    "    C_try = np.sqrt(C_left * C_right)\n",
    "    lr.set_params(C=C_try)\n",
    "    lr.fit(X_train_std, y_train)\n",
    "    coef_try = lr.coef_.copy()\n",
    "    if (coef_try != 0).sum() >= count_variables:\n",
    "        C_right = C_try\n",
    "        coef_right = coef_try\n",
    "    else:\n",
    "        C_left = C_try\n",
    "        coef_left = coef_try\n"
   ]
  },
  {
   "cell_type": "code",
   "execution_count": 13,
   "metadata": {},
   "outputs": [
    {
     "name": "stdout",
     "output_type": "stream",
     "text": [
      "C: 0.00992246458137503,\n",
      "coef: [[-0.00042551  0.          0.          0.          0.          0.\n",
      "   0.          0.          0.          0.          0.          0.\n",
      "   0.          0.          0.          0.          0.          0.\n",
      "   0.          0.          0.          0.          0.          0.\n",
      "   0.          0.          0.          0.          0.          0.\n",
      "   0.          0.          0.          0.          0.          0.\n",
      "   0.         -0.05517592  0.          0.          0.          0.\n",
      "   0.          0.          0.          0.          0.          0.\n",
      "   0.          0.          0.          0.          0.          0.\n",
      "   0.          0.          0.          0.          0.          0.\n",
      "   0.          0.          0.          0.        ]]\n"
     ]
    }
   ],
   "source": [
    "lr.set_params(C=C_right)\n",
    "lr.fit(X_train_std, y_train)\n",
    "print(\"C: {},\\ncoef: {}\".format(C_right, coef_right))"
   ]
  },
  {
   "cell_type": "code",
   "execution_count": 14,
   "metadata": {},
   "outputs": [
    {
     "data": {
      "text/plain": [
       "(2,)"
      ]
     },
     "execution_count": 14,
     "metadata": {},
     "output_type": "execute_result"
    }
   ],
   "source": [
    "lr.coef_[lr.coef_!=0].shape # check the number of the features with non-zero weights"
   ]
  },
  {
   "cell_type": "code",
   "execution_count": 15,
   "metadata": {},
   "outputs": [],
   "source": [
    "# redefine X_train_std and X_test_std\n",
    "X_train_std = X_train_std[:, lr.coef_[0]!=0]\n",
    "X_test_std = X_test_std[:, lr.coef_[0]!=0]"
   ]
  },
  {
   "cell_type": "markdown",
   "metadata": {},
   "source": [
    "## Apply LR / SVM / Decision Tree below\n",
    "Using the 2 selected features, apply LR / SVM / decision tree. Try your own hyperparameters (C, gamma, tree depth, etc) to maximize the prediction accuracy. (Just try several values. You don't need to show your answer is the maximum.)"
   ]
  },
  {
   "cell_type": "code",
   "execution_count": 16,
   "metadata": {},
   "outputs": [],
   "source": [
    "from sklearn.model_selection import GridSearchCV"
   ]
  },
  {
   "cell_type": "markdown",
   "metadata": {},
   "source": [
    "### (1) LR with L1 penalty\n",
    "hyper-parameter: C"
   ]
  },
  {
   "cell_type": "code",
   "execution_count": 17,
   "metadata": {},
   "outputs": [
    {
     "name": "stdout",
     "output_type": "stream",
     "text": [
      "## LR with L1 penalty, C=0.00992246458137503\n",
      "Training accuracy: 0.9474759264662971\n",
      "Test accuracy: 0.9469026548672567\n",
      "## LR with L1 penalty, C=9.92246458137503e-07\n",
      "Training accuracy: 0.9474759242298244\n",
      "Test accuracy: 0.9472430224642614\n"
     ]
    }
   ],
   "source": [
    "print(\"## LR with L1 penalty, C={}\".format(C_right))\n",
    "lr1 = LogisticRegression(\n",
    "    penalty='l1', \n",
    "    C=C_right,\n",
    "    solver='liblinear', \n",
    "    multi_class=\"ovr\"\n",
    ")\n",
    "lr1.fit(X_train_std, y_train)\n",
    "print('Training accuracy:', lr1.score(X_train_std, y_train))\n",
    "print('Test accuracy:', lr1.score(X_test_std, y_test))\n",
    "\n",
    "CV_lr1 = GridSearchCV(\n",
    "    lr1, \n",
    "    param_grid={\n",
    "        'C': np.logspace(-4,4,100) * C_right\n",
    "    }, \n",
    "    cv=3, \n",
    "    scoring='accuracy',\n",
    "    verbose=0\n",
    ")\n",
    "CV_lr1.fit(X_train_std, y_train)\n",
    "C_best_lr1 = CV_lr1.best_params_[\"C\"]\n",
    "lr1 = CV_lr1.best_estimator_\n",
    "print(\"## LR with L1 penalty, C={}\".format(C_best_lr1))\n",
    "print('Training accuracy:', CV_lr1.best_score_)\n",
    "print('Test accuracy:', lr1.score(X_test_std, y_test))"
   ]
  },
  {
   "cell_type": "markdown",
   "metadata": {},
   "source": [
    "### (2) LR with L2 penalty\n",
    "hyper-parameter: C"
   ]
  },
  {
   "cell_type": "code",
   "execution_count": 18,
   "metadata": {},
   "outputs": [
    {
     "name": "stdout",
     "output_type": "stream",
     "text": [
      "## LR with L2 penalty, C=1\n",
      "Training accuracy: 0.946892325649256\n",
      "Test accuracy: 0.9469026548672567\n",
      "## LR with L2 penalty, C=0.0001\n",
      "Training accuracy: 0.9474759242298244\n",
      "Test accuracy: 0.9469026548672567\n"
     ]
    }
   ],
   "source": [
    "print(\"## LR with L2 penalty, C={}\".format(1))\n",
    "lr2 = LogisticRegression(\n",
    "    penalty='l2', \n",
    "    C=1,\n",
    "    solver='lbfgs', \n",
    "    multi_class=\"ovr\"\n",
    ")\n",
    "lr2.fit(X_train_std, y_train)\n",
    "print('Training accuracy:', lr2.score(X_train_std, y_train))\n",
    "print('Test accuracy:', lr2.score(X_test_std, y_test))\n",
    "\n",
    "CV_lr2 = GridSearchCV(\n",
    "    lr2, \n",
    "    param_grid={\n",
    "        'C': np.logspace(-4,4,100) * 1\n",
    "    }, \n",
    "    cv=3, \n",
    "    scoring='accuracy',\n",
    "    verbose=0\n",
    ")\n",
    "CV_lr2.fit(X_train_std, y_train)\n",
    "C_best_lr2 = CV_lr2.best_params_[\"C\"]\n",
    "lr2 = CV_lr2.best_estimator_\n",
    "print(\"## LR with L2 penalty, C={}\".format(C_best_lr2))\n",
    "print('Training accuracy:', CV_lr2.best_score_)\n",
    "print('Test accuracy:', lr2.score(X_test_std, y_test))"
   ]
  },
  {
   "cell_type": "markdown",
   "metadata": {},
   "source": [
    "### (3) SVM\n",
    "hyper-parameter: C, gamma"
   ]
  },
  {
   "cell_type": "code",
   "execution_count": 19,
   "metadata": {},
   "outputs": [
    {
     "name": "stdout",
     "output_type": "stream",
     "text": [
      "## SVM, C=1, gamma=0.5\n",
      "Training accuracy: 0.9482054274875985\n",
      "Test accuracy: 0.9472430224642614\n",
      "## SVM, C=0.01, gamma=0.005\n",
      "Training accuracy: 0.9474759242298244\n",
      "Test accuracy: 0.9472430224642614\n"
     ]
    }
   ],
   "source": [
    "print(\"## SVM, C={}, gamma={}\".format(1, 0.5))\n",
    "svm = SVC(\n",
    "    kernel='rbf', \n",
    "    C=1.0, \n",
    "    gamma=0.5,\n",
    "    random_state=1,\n",
    "    tol=1e-2\n",
    "#     max_iter=1000\n",
    ")\n",
    "svm.fit(X_train_std, y_train)\n",
    "print('Training accuracy:', svm.score(X_train_std, y_train))\n",
    "print('Test accuracy:', svm.score(X_test_std, y_test))\n",
    "\n",
    "CV_svm = GridSearchCV(\n",
    "    svm, \n",
    "    param_grid={\n",
    "        'C': np.logspace(-2,2,4) * 1,\n",
    "        'gamma': np.logspace(-2,2,4) * 0.5,\n",
    "    }, \n",
    "    cv=3, \n",
    "    scoring='accuracy',\n",
    "    verbose=0\n",
    ")\n",
    "CV_svm.fit(X_train_std, y_train)\n",
    "C_best_svm = CV_svm.best_params_[\"C\"]\n",
    "gamma_best_svm = CV_svm.best_params_[\"gamma\"]\n",
    "svm = CV_svm.best_estimator_\n",
    "print(\"## SVM, C={}, gamma={}\".format(C_best_svm, gamma_best_svm))\n",
    "print('Training accuracy:', CV_svm.best_score_)\n",
    "print('Test accuracy:', svm.score(X_test_std, y_test))"
   ]
  },
  {
   "cell_type": "markdown",
   "metadata": {},
   "source": [
    "### (4) Decision Tree\n",
    "hyper-parameter: C"
   ]
  },
  {
   "cell_type": "code",
   "execution_count": 20,
   "metadata": {},
   "outputs": [
    {
     "name": "stdout",
     "output_type": "stream",
     "text": [
      "## Decision Tree, criterion=gini, max_depth=4\n",
      "Training accuracy: 0.948497227896119\n",
      "Test accuracy: 0.9458815520762424\n",
      "## Decision Tree, criterion=gini, max_depth=1\n",
      "Training accuracy: 0.9474759242298244\n",
      "Test accuracy: 0.9472430224642614\n"
     ]
    }
   ],
   "source": [
    "print(\"## Decision Tree, criterion={}, max_depth={}\".format('gini', 4))\n",
    "tree_model = DecisionTreeClassifier(\n",
    "    criterion='gini', \n",
    "    max_depth=4,\n",
    "    random_state=1\n",
    ")\n",
    "tree_model.fit(X_train_std, y_train)\n",
    "print('Training accuracy:', tree_model.score(X_train_std, y_train))\n",
    "print('Test accuracy:', tree_model.score(X_test_std, y_test))\n",
    "\n",
    "CV_tree_model = GridSearchCV(\n",
    "    tree_model, \n",
    "    param_grid={\n",
    "        'criterion': [\"gini\", \"entropy\"],\n",
    "        'max_depth': range(1, 10),\n",
    "    }, \n",
    "    cv=3, \n",
    "    scoring='accuracy',\n",
    "    verbose=0\n",
    ")\n",
    "CV_tree_model.fit(X_train_std, y_train)\n",
    "C_best_criterion = CV_tree_model.best_params_[\"criterion\"]\n",
    "C_best_max_depth = CV_tree_model.best_params_[\"max_depth\"]\n",
    "tree_model = CV_tree_model.best_estimator_\n",
    "print(\"## Decision Tree, criterion={}, max_depth={}\".format(C_best_criterion, C_best_max_depth))\n",
    "print('Training accuracy:', CV_tree_model.best_score_)\n",
    "print('Test accuracy:', tree_model.score(X_test_std, y_test))"
   ]
  },
  {
   "cell_type": "markdown",
   "metadata": {},
   "source": [
    "## Visualize the classification"
   ]
  },
  {
   "cell_type": "code",
   "execution_count": 21,
   "metadata": {},
   "outputs": [],
   "source": [
    "from matplotlib.colors import ListedColormap\n",
    "import matplotlib.pyplot as plt\n",
    "\n",
    "def plot_decision_regions(X, y, classifier, test_idx=None, resolution=0.02, ax=None):\n",
    "\n",
    "    if ax is None:\n",
    "        ax = plt.gca()\n",
    "    # setup marker generator and color map\n",
    "    markers = ('s', 'D', 'o', '^', 'v')\n",
    "    colors = ('red', 'blue', 'lightgreen', 'gray', 'cyan')\n",
    "    cmap = ListedColormap(colors[:len(np.unique(y))])\n",
    "\n",
    "    # plot the decision surface\n",
    "    x1_min, x1_max = X[:, 0].min() - 1, X[:, 0].max() + 1\n",
    "    x2_min, x2_max = X[:, 1].min() - 1, X[:, 1].max() + 1\n",
    "    xx1, xx2 = np.meshgrid(np.arange(x1_min, x1_max, resolution),\n",
    "                           np.arange(x2_min, x2_max, resolution))\n",
    "    Z = classifier.predict(np.array([xx1.ravel(), xx2.ravel()]).T)\n",
    "    Z = Z.reshape(xx1.shape)\n",
    "    ax.contourf(xx1, xx2, Z, alpha=0.3, cmap=cmap)\n",
    "    ax.set_xlim(xx1.min(), xx1.max())\n",
    "    ax.set_ylim(xx2.min(), xx2.max())\n",
    "\n",
    "    for idx, cl in enumerate(np.unique(y)):\n",
    "        ax.scatter(\n",
    "            x=X[y == cl, 0], \n",
    "            y=X[y == cl, 1],\n",
    "            alpha=0.3, \n",
    "            c=colors[idx],\n",
    "            marker=markers[idx], \n",
    "            label=cl, \n",
    "            edgecolor='none'\n",
    "        )\n",
    "\n",
    "    # highlight test samples\n",
    "    if test_idx is not None:\n",
    "        # plot all samples\n",
    "        X_test, y_test = X[test_idx, :], y[test_idx]\n",
    "\n",
    "#         ax.scatter(\n",
    "#             X_test[:, 0],\n",
    "#             X_test[:, 1],\n",
    "#             c=\"none\",\n",
    "#             edgecolor='black',\n",
    "#             alpha=1,\n",
    "#             linewidth=1,\n",
    "#             marker='o',\n",
    "#             s=100, \n",
    "#             label='test set'\n",
    "#         )\n",
    "        \n",
    "        for idx, cl in enumerate(np.unique(y_test)):\n",
    "            ax.scatter(\n",
    "                x=X_test[y_test == cl, 0], \n",
    "                y=X_test[y_test == cl, 1],\n",
    "                alpha=1, \n",
    "#                 c=colors[idx],\n",
    "                c=\"none\",\n",
    "                marker=markers[idx], \n",
    "                label=\"test {}\".format(cl), \n",
    "                edgecolor='black'\n",
    "            )\n",
    "        \n",
    "    ax.legend(loc='upper left')"
   ]
  },
  {
   "cell_type": "code",
   "execution_count": 23,
   "metadata": {},
   "outputs": [
    {
     "name": "stderr",
     "output_type": "stream",
     "text": [
      "<ipython-input-23-f1657db9e539>:29: UserWarning: Matplotlib is currently using module://ipykernel.pylab.backend_inline, which is a non-GUI backend, so cannot show the figure.\n",
      "  fig.show()\n"
     ]
    },
    {
     "data": {
      "image/png": "[encoded data removed]",
      "text/plain": [
       "<Figure size 1440x360 with 4 Axes>"
      ]
     },
     "metadata": {
      "needs_background": "light"
     },
     "output_type": "display_data"
    }
   ],
   "source": [
    "X_combined_std = np.vstack((X_train_std, X_test_std))\n",
    "y_combined = np.hstack((y_train, y_test))\n",
    "model_names = [\"lr1\", \"lr2\", \"svm\", \"tree_model\"]\n",
    "\n",
    "# x1_span = fence_outliers(X_combined_std[:, 0], 20)\n",
    "# x2_span = fence_outliers(X_combined_std[:, 1], 20)\n",
    "\n",
    "fig, axs = plt.subplots(1, len(model_names), figsize=(5*len(model_names), 5))\n",
    "\n",
    "for clf_name, ax in zip(model_names, axs):\n",
    "    clf = eval(clf_name)\n",
    "    test_idx = np.array((range(0, len(y_combined))), dtype=int)[-len(y_test):]\n",
    "    plot_decision_regions(\n",
    "        X=X_combined_std, \n",
    "        y=y_combined,\n",
    "        classifier=clf, \n",
    "#         test_idx=test_idx,\n",
    "        resolution=0.1,\n",
    "        ax=ax\n",
    "    )\n",
    "    acc_train = clf.score(X_train_std, y_train)\n",
    "    acc_test = clf.score(X_test_std, y_test)\n",
    "    ax.set_title(\"{}(acc: train-{:.4f}/test-{:.4f})\".format(clf_name, acc_train, acc_test))\n",
    "#     ax.set_xlim(x1_span[0], x1_span[1])\n",
    "#     ax.set_ylim(x2_span[0], x2_span[1])\n",
    "\n",
    "fig.tight_layout()\n",
    "fig.savefig('test_result.png', dpi=150, bbox_inches=\"tight\")\n",
    "fig.show()"
   ]
  },
  {
   "cell_type": "code",
   "execution_count": null,
   "metadata": {},
   "outputs": [],
   "source": []
  }
 ],
 "metadata": {
  "kernelspec": {
   "display_name": "Python 3",
   "language": "python",
   "name": "python3"
  },
  "language_info": {
   "codemirror_mode": {
    "name": "ipython",
    "version": 3
   },
   "file_extension": ".py",
   "mimetype": "text/x-python",
   "name": "python",
   "nbconvert_exporter": "python",
   "pygments_lexer": "ipython3",
   "version": "3.8.5"
  }
 },
 "nbformat": 4,
 "nbformat_minor": 4
}
